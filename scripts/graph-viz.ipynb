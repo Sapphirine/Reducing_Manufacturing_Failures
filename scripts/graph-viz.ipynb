{
 "cells": [
  {
   "cell_type": "markdown",
   "metadata": {},
   "source": [
    "### Visualizing the first 1000 Defective Ids and first 1000 Non-Defective Ids using [IBM System G](http://systemg.research.ibm.com/) and their movements across the production lines to develop useful insights about the data.\n"
   ]
  },
  {
   "cell_type": "markdown",
   "metadata": {},
   "source": [
    "## Import Node.csv and Edge.csv to system G visualizer for the respective graphs for visualization:\n",
    "\n",
    "### Graph -- Negative:\n",
    "\n",
    "#### Visualizing the nodes that first 1000 Defective Ids visit to. There is an edge between every adjacent stations.\n",
    "\n",
    "- Commands for visualizing the graph\n",
    "---\n",
    "- [gremlin g=CreateGraph.openGraph(\"sgtrans\",\"negative\")]\n",
    "- [get_num_vertices --graph negative]\n",
    "- [print_all --graph negative]\n",
    "\n",
    ">>number of nodes: 119\n",
    ">>number of edges: 407\n",
    "\n",
    "<img src=\"../plots/negative.png\">"
   ]
  },
  {
   "cell_type": "markdown",
   "metadata": {},
   "source": [
    "\n",
    "- Visualizing near the station that has the highest degree\n",
    "---\n",
    " <img src=\"../plots/egonet-negative.png\"/>"
   ]
  },
  {
   "cell_type": "markdown",
   "metadata": {},
   "source": [
    "\n",
    "\n",
    "- Command to get the stations that have more Ids coming into them\n",
    "---\n",
    "- analytic_get_top_vertices_by_prop --graph negative --prop analytic_degree_in --topnum 10 <img src=\"../plots/negative_in_10.png\"/>"
   ]
  },
  {
   "cell_type": "markdown",
   "metadata": {},
   "source": [
    "\n",
    "- The stations that have the maximum number of Ids coming out of them\n",
    "---\n",
    "\n",
    "- analytic_get_top_vertices_by_prop --graph negative --prop analytic_degree_out --topnum 10\n",
    "\n",
    "<img src=\"../plots/negative_out_10.png\">\n"
   ]
  },
  {
   "cell_type": "markdown",
   "metadata": {},
   "source": [
    "### Graph -- Positive\n",
    "\n",
    "#### Visualizing the nodes that first 1000 Non-Defective Ids visit to. There is an edge between every adjacent stations.\n",
    "\n",
    "- visualizing the graph\n",
    "---\n",
    "\n",
    "- [gremlin g=CreateGraph.openGraph(\"sgtrans\",\"positive\")]\n",
    "- [get_num_vertices --graph positive]\n",
    "- [print_all --graph positive]\n",
    "\n",
    ">>number of nodes: 119\n",
    ">>number of edges: 407\n",
    "\n",
    "<img src=\"../plots/positive.png\">"
   ]
  },
  {
   "cell_type": "markdown",
   "metadata": {},
   "source": [
    "- The stations that have more Ids coming into them\n",
    "---\n",
    "- analytic_get_top_vertices_by_prop --graph negative --prop analytic_degree_in --topnum 10 \n",
    "<img src=\"../plots/positive_in_10.png\"/>"
   ]
  },
  {
   "cell_type": "markdown",
   "metadata": {},
   "source": [
    "\n",
    "- The stations that have the maximum number of Ids coming out of them\n",
    "---\n",
    "\n",
    "- analytic_get_top_vertices_by_prop --graph negative --prop analytic_degree_out --topnum 10\n",
    "\n",
    "<img src=\"../plots/positive_out_10.png\">\n"
   ]
  },
  {
   "cell_type": "markdown",
   "metadata": {},
   "source": [
    "## Observations\n",
    "Different stations/lines are more frequently visited by Faulty Items than the Non-Faulty Ones. Thus strengthening the belief that they are some sort of stations that act more crucial for deciding faults in the product, these are where more recordings and stricter tests are undergone to test for manufacturing quality. "
   ]
  }
 ],
 "metadata": {
  "kernelspec": {
   "display_name": "Python 2",
   "language": "python",
   "name": "python2"
  },
  "language_info": {
   "codemirror_mode": {
    "name": "ipython",
    "version": 2
   },
   "file_extension": ".py",
   "mimetype": "text/x-python",
   "name": "python",
   "nbconvert_exporter": "python",
   "pygments_lexer": "ipython2",
   "version": "2.7.6"
  }
 },
 "nbformat": 4,
 "nbformat_minor": 2
}
