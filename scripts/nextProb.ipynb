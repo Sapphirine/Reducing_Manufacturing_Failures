{
 "cells": [
  {
   "cell_type": "markdown",
   "metadata": {},
   "source": [
    "Probability of a Defect after Defect"
   ]
  },
  {
   "cell_type": "code",
   "execution_count": 1,
   "metadata": {
    "collapsed": true
   },
   "outputs": [
    {
     "name": "stdout",
     "output_type": "stream",
     "text": [
      "\r",
      "Read 0.0% of 1183747 rows\r",
      "Read 5.1% of 1183747 rows\r",
      "Read 10.1% of 1183747 rows\r",
      "Read 15.2% of 1183747 rows\r",
      "Read 20.3% of 1183747 rows\r",
      "Read 25.3% of 1183747 rows\r",
      "Read 30.4% of 1183747 rows\r",
      "Read 35.5% of 1183747 rows\r",
      "Read 40.5% of 1183747 rows\r",
      "Read 45.6% of 1183747 rows\r",
      "Read 50.7% of 1183747 rows\r",
      "Read 55.8% of 1183747 rows\r",
      "Read 60.8% of 1183747 rows\r",
      "Read 65.9% of 1183747 rows\r",
      "Read 71.0% of 1183747 rows\r",
      "Read 76.0% of 1183747 rows\r",
      "Read 81.1% of 1183747 rows\r",
      "Read 86.2% of 1183747 rows\r",
      "Read 91.2% of 1183747 rows\r",
      "Read 96.3% of 1183747 rows\r",
      "Read 1183747 rows and 2 (of 970) columns from 1.993 GB file in 00:00:30\n"
     ]
    }
   ],
   "source": [
    "library(data.table)\n",
    "\n",
    "data <- fread(\"../data/train_numeric.csv\",select = c(\"Id\", \"Response\"));\n",
    "data <- data[,c('Id', 'Response')];\n",
    "data$nextId = data$Id + 1;\n",
    "IdList <- data[data$nextId %in% data$Id];"
   ]
  },
  {
   "cell_type": "code",
   "execution_count": 2,
   "metadata": {
    "collapsed": false
   },
   "outputs": [
    {
     "name": "stdout",
     "output_type": "stream",
     "text": [
      "[1] \"Percentage of defect after defect\"\n",
      "[1] 0.1008182\n",
      "[1] \"Percentage of defect after no defect\"\n",
      "[1] 0.005226673\n"
     ]
    }
   ],
   "source": [
    "\n",
    "data[Id %in% IdList$Id] -> current;\n",
    "data[Id %in% IdList$nextId] -> nextId;\n",
    "\n",
    "prob = table(current$Response,nextId$Response);\n",
    "\n",
    "prob1 = prob[2,2]/(prob[2,1]+prob[2,2]);\n",
    "prob2 = prob[2,1]/(prob[1,1]+prob[2,1]);\n",
    "\n",
    "print(\"Percentage of defect after defect\");\n",
    "print(prob1);\n",
    "\n",
    "print(\"Percentage of defect after no defect\");\n",
    "print(prob2);"
   ]
  }
 ],
 "metadata": {
  "kernelspec": {
   "display_name": "R",
   "language": "R",
   "name": "ir"
  },
  "language_info": {
   "codemirror_mode": "r",
   "file_extension": ".r",
   "mimetype": "text/x-r-source",
   "name": "R",
   "pygments_lexer": "r",
   "version": "3.3.2"
  }
 },
 "nbformat": 4,
 "nbformat_minor": 0
}
